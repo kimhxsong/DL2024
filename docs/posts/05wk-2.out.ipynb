{
  "cells": [
    {
      "cell_type": "markdown",
      "metadata": {},
      "source": [
        "# 05wk-2: 합성곱신경망 (1)\n",
        "\n",
        "최규빈  \n",
        "2024-04-03\n",
        "\n",
        "<a href=\"https://colab.research.google.com/github/guebin/DL2024/blob/main/posts/05wk-2.ipynb\"><img src=\"https://colab.research.google.com/assets/colab-badge.svg\" style=\"text-align: left\"></a>\n",
        "\n",
        "# 1. 강의영상"
      ],
      "id": "f88ab856-279c-4bd4-9870-510cc66469aa"
    },
    {
      "cell_type": "code",
      "execution_count": 1,
      "metadata": {
        "tags": []
      },
      "outputs": [],
      "source": [
        "#{{<video https://youtu.be/playlist?list=PLQqh36zP38-wjNGgd4gmQJbQ66NLjUC2y&si=dusDZAwGOJS9TOKJ >}}"
      ],
      "id": "4642cf89-5814-4fe6-add1-6e4570f9d96c"
    },
    {
      "cell_type": "markdown",
      "metadata": {},
      "source": [
        "# 2. Imports"
      ],
      "id": "316b74d5-e1a9-4a80-b5c9-827f1762de91"
    },
    {
      "cell_type": "code",
      "execution_count": 4,
      "metadata": {
        "tags": []
      },
      "outputs": [],
      "source": [
        "import torch\n",
        "import matplotlib.pyplot as plt\n",
        "from fastai.data.all import *\n",
        "import torchvision"
      ],
      "id": "b97e7cfa-2e5c-4b08-b735-5ff46de7869b"
    },
    {
      "cell_type": "markdown",
      "metadata": {},
      "source": [
        "# 3. Data: MNIST\n",
        "\n",
        "`-` download data"
      ],
      "id": "c6bc1202-649d-40d9-91f8-0e5516d3c081"
    },
    {
      "cell_type": "code",
      "execution_count": 124,
      "metadata": {
        "tags": []
      },
      "outputs": [],
      "source": [
        "path = untar_data(URLs.MNIST)"
      ],
      "id": "21f4d9dc-8718-40dc-b172-9edc1db81f7b"
    },
    {
      "cell_type": "markdown",
      "metadata": {},
      "source": [
        "`-` training set"
      ],
      "id": "edb5d7fe-4961-46ae-abe4-0259aac66f56"
    },
    {
      "cell_type": "code",
      "execution_count": 125,
      "metadata": {
        "tags": []
      },
      "outputs": [],
      "source": [
        "X0 = torch.stack([torchvision.io.read_image(str(fname)) for fname in (path/'training/0').ls()])\n",
        "X1 = torch.stack([torchvision.io.read_image(str(fname)) for fname in (path/'training/1').ls()])\n",
        "X = torch.concat([X0,X1])/255\n",
        "y = torch.tensor([0.0]*len(X0) + [1.0]*len(X1)).reshape(-1,1)"
      ],
      "id": "2a603395-ae40-4643-8e75-a2b08db12dac"
    },
    {
      "cell_type": "markdown",
      "metadata": {},
      "source": [
        "`-` test set"
      ],
      "id": "76cdfc8a-4084-4969-a7fc-9f46654e1faf"
    },
    {
      "cell_type": "code",
      "execution_count": 126,
      "metadata": {
        "tags": []
      },
      "outputs": [],
      "source": [
        "X0 = torch.stack([torchvision.io.read_image(str(fname)) for fname in (path/'testing/0').ls()])\n",
        "X1 = torch.stack([torchvision.io.read_image(str(fname)) for fname in (path/'testing/1').ls()])\n",
        "XX = torch.concat([X0,X1])/255\n",
        "yy = torch.tensor([0.0]*len(X0) + [1.0]*len(X1)).reshape(-1,1)"
      ],
      "id": "42fb9db2-8283-4c51-9a81-dbeace08d5ef"
    },
    {
      "cell_type": "code",
      "execution_count": 127,
      "metadata": {
        "tags": []
      },
      "outputs": [],
      "source": [
        "X.shape,XX.shape,y.shape,yy.shape"
      ],
      "id": "bf310997-830b-4ec7-897d-d1d6cfdf697e"
    },
    {
      "cell_type": "markdown",
      "metadata": {},
      "source": [
        "# 4. CNN 예비학습\n",
        "\n",
        "## A. 기존모형에 대한 불만\n",
        "\n",
        "![](https://guebin.github.io/DL2022/posts/III.%20CNN/2022-10-18-7wk-2_files/figure-html/cell-8-output-1.svg)\n",
        "\n",
        "`-` 왜 28 $\\times$ 28 이미지를 784개의 벡터로 만든 다음에 모형을 돌려야\n",
        "하는가?\n",
        "\n",
        "`-` 기존에 개발된 모형이 회귀분석 기반으로 되어있어서 결국 회귀분석 틀에\n",
        "짜 맞추어서 이미지자료를 분석하는 느낌\n",
        "\n",
        "`-` observation의 차원은 $784$가 아니라 $1\\times (28\\times 28)$이 되어야\n",
        "맞다.\n",
        "\n",
        "## B. 새로운 아키텍처의 제시\n",
        "\n",
        "`-` 예전 아키텍처들\n",
        "\n",
        "-   $\\underset{(n,1)}{\\bf X} \\overset{l_1}{\\to} \\underset{(n,2)}{\\boldsymbol u^{(1)}} \\overset{relu}{\\to} \\underset{(n,2)}{\\boldsymbol v^{(1)}} \\overset{l_1}{\\to} \\underset{(n,1)}{\\boldsymbol u^{(2)}} \\overset{sig}{\\to} \\underset{(n,1)}{\\boldsymbol v^{(2)}}=\\underset{(n,1)}{\\hat{\\boldsymbol y}}$\n",
        "-   $\\underset{(n,1)}{\\bf X} \\overset{l_1}{\\to} \\underset{(n,256)}{\\boldsymbol u^{(1)}} \\overset{relu}{\\to} \\underset{(n,256)}{\\boldsymbol v^{(1)}} \\overset{l_1}{\\to} \\underset{(n,1)}{\\boldsymbol u^{(2)}} \\overset{sig}{\\to} \\underset{(n,1)}{\\boldsymbol v^{(2)}}=\\underset{(n,1)}{\\hat{\\boldsymbol y}}$\n",
        "-   $\\underset{(n,784)}{\\bf X} \\overset{l_1}{\\to} \\underset{(n,30)}{\\boldsymbol u^{(1)}} \\overset{relu}{\\to} \\underset{(n,30)}{\\boldsymbol v^{(1)}} \\overset{l_2}{\\to} \\underset{(n,1)}{\\boldsymbol u^{(2)}} \\overset{sig}{\\to} \\underset{(n,1)}{\\boldsymbol v^{(2)}}=\\underset{(n,1)}{\\hat{\\boldsymbol y}}$\n",
        "\n",
        "`-` 아키텍처들의 공통점?\n",
        "\n",
        "-   $l_1$: 선형변환, feature를 뽑아내는 역할 (뻥튀기 혹은 요약)\n",
        "-   $relu$: 뻥튀기된 feature에 비선형을 추가하여 표현력 극대화\n",
        "-   $l_2$: 선형변환, 뻥튀기된 feature를 요약 하는 역할 (=데이터를\n",
        "    요약하는 역할)\n",
        "\n",
        "`-` 새로운 아키텍처\n",
        "\n",
        "-   $conv$: feature를 뽑아내는 역할 (뻥튀기 혹은 요약) (2d ver $l_1$\n",
        "    느낌)\n",
        "-   $relu$:\n",
        "-   $pooling$: 데이터를 요약하는 역할\n",
        "\n",
        "## C. CONV 레이어 (선형변환의 2D 버전)\n",
        "\n",
        "`-` 우선 연산하는 방법만 살펴보자.\n",
        "\n",
        "**(예시1)**"
      ],
      "id": "3e708968-a75e-4aec-8eff-8d8de2200bed"
    },
    {
      "cell_type": "code",
      "execution_count": 46,
      "metadata": {
        "tags": []
      },
      "outputs": [],
      "source": [
        "torch.manual_seed(43052)\n",
        "conv = torch.nn.Conv2d(1,1,(2,2)) # 입력1, 출력1, (2,2) window size\n",
        "conv.weight.data, conv.bias.data"
      ],
      "id": "df01e491-f635-4cbc-a73f-a01d9333bb5f"
    },
    {
      "cell_type": "code",
      "execution_count": 52,
      "metadata": {
        "tags": []
      },
      "outputs": [],
      "source": [
        "_X = torch.arange(0,4).reshape(1,1,2,2).float() # 2,2 흑백이미지. \n",
        "_X"
      ],
      "id": "7ece5860-fa0f-4a98-9398-1e646ead26f9"
    },
    {
      "cell_type": "code",
      "execution_count": 53,
      "metadata": {
        "tags": []
      },
      "outputs": [],
      "source": [
        "(-0.1733)*0 + (-0.4235)*1 +\\\n",
        "(0.1802)*2 + (0.4668)*3 + 0.2037"
      ],
      "id": "c8ea2954-5099-4c92-800c-6c055d9a49e4"
    },
    {
      "cell_type": "code",
      "execution_count": 54,
      "metadata": {
        "tags": []
      },
      "outputs": [],
      "source": [
        "conv(_X)"
      ],
      "id": "5ec03ae5-5f94-40b2-b1a3-4ee2e588e6ea"
    },
    {
      "cell_type": "markdown",
      "metadata": {},
      "source": [
        "**(예시2) 잘하면 평균도 계산하겠다?**"
      ],
      "id": "2f176503-ab08-4610-855e-ec31d85b4c29"
    },
    {
      "cell_type": "code",
      "execution_count": 50,
      "metadata": {
        "tags": []
      },
      "outputs": [],
      "source": [
        "conv.weight.data = torch.tensor([[[[1/4, 1/4],[1/4,1/4]]]])\n",
        "conv.bias.data = torch.tensor([0.0])"
      ],
      "id": "830b1327-d85b-463a-b2c1-b9476252a6ea"
    },
    {
      "cell_type": "code",
      "execution_count": 51,
      "metadata": {
        "tags": []
      },
      "outputs": [],
      "source": [
        "conv(_X) , (0+1+2+3)/4"
      ],
      "id": "0c195c69-3998-4ee0-b92d-ae92c85d50d6"
    },
    {
      "cell_type": "markdown",
      "metadata": {},
      "source": [
        "**(예시3) 이동평균?**"
      ],
      "id": "3972dfe2-f251-480d-b3cc-41842cc79d66"
    },
    {
      "cell_type": "code",
      "execution_count": 55,
      "metadata": {
        "tags": []
      },
      "outputs": [],
      "source": [
        "_X = torch.arange(0,25).float().reshape(1,1,5,5) \n",
        "_X"
      ],
      "id": "1a71b90a-37c8-48c4-8663-1604cba16b20"
    },
    {
      "cell_type": "code",
      "execution_count": 56,
      "metadata": {
        "tags": []
      },
      "outputs": [],
      "source": [
        "conv(_X)"
      ],
      "id": "52a24c15-0b18-4163-9e51-eb5c9d1dc9ac"
    },
    {
      "cell_type": "markdown",
      "metadata": {},
      "source": [
        "**(예시4) window size가 증가한다면? (2d의 이동평균느낌)**"
      ],
      "id": "6c724034-a0f8-4312-859e-178b5f4f978c"
    },
    {
      "cell_type": "code",
      "execution_count": 57,
      "metadata": {
        "tags": []
      },
      "outputs": [],
      "source": [
        "conv = torch.nn.Conv2d(1,1,(3,3)) # 입력1, 출력1, (3,3) window size\n",
        "conv.bias.data = torch.tensor([0.0])\n",
        "conv.weight.data = torch.tensor([[[[1/9,1/9,1/9],[1/9,1/9,1/9],[1/9,1/9,1/9]]]])"
      ],
      "id": "0ad3497d-339c-45fd-94a5-2934edb14a12"
    },
    {
      "cell_type": "code",
      "execution_count": 58,
      "metadata": {
        "tags": []
      },
      "outputs": [],
      "source": [
        "_X,conv(_X)"
      ],
      "id": "cbf92f33-1e27-4199-a50b-b0dbb8556097"
    },
    {
      "cell_type": "code",
      "execution_count": 59,
      "metadata": {
        "tags": []
      },
      "outputs": [],
      "source": [
        "(1+2+3+6+7+8+11+12+13)/9"
      ],
      "id": "f4f92960-588e-443d-81fd-7f7646bead7b"
    },
    {
      "cell_type": "markdown",
      "metadata": {},
      "source": [
        "**(예시5)** 2개의 이미지"
      ],
      "id": "e229454a-b8af-41e4-823d-b6df495b6626"
    },
    {
      "cell_type": "code",
      "execution_count": 89,
      "metadata": {
        "tags": []
      },
      "outputs": [],
      "source": [
        "conv = torch.nn.Conv2d(1,1,(3,3)) # 입력1, 출력1, (3,3) window size\n",
        "conv.bias.data = torch.tensor([0.0])\n",
        "conv.weight.data = torch.tensor([[[[1/9,1/9,1/9],[1/9,1/9,1/9],[1/9,1/9,1/9]]]])"
      ],
      "id": "4d5d061d-b98d-4ec3-8119-85c1df220f6d"
    },
    {
      "cell_type": "code",
      "execution_count": 90,
      "metadata": {
        "tags": []
      },
      "outputs": [],
      "source": [
        "_X = torch.arange(0,50).float().reshape(2,1,5,5) \n",
        "_X"
      ],
      "id": "dfa7a18f-fbc1-481e-87d5-94c317b93b5b"
    },
    {
      "cell_type": "code",
      "execution_count": 91,
      "metadata": {
        "tags": []
      },
      "outputs": [],
      "source": [
        "conv(_X)"
      ],
      "id": "4b452022-c8ee-490f-a85a-7377c768fd52"
    },
    {
      "cell_type": "markdown",
      "metadata": {},
      "source": [
        "**(예시6) 피처뻥튀기**"
      ],
      "id": "edaf23b5-4010-4515-a809-ccf5392631bd"
    },
    {
      "cell_type": "code",
      "execution_count": 61,
      "metadata": {
        "tags": []
      },
      "outputs": [],
      "source": [
        "_X = torch.tensor([1.0,1.0,1.0,1.0]).reshape(1,1,2,2)\n",
        "_X"
      ],
      "id": "dce65523-4eeb-4e6e-b95b-c7d643ed8552"
    },
    {
      "cell_type": "code",
      "execution_count": 62,
      "metadata": {
        "tags": []
      },
      "outputs": [],
      "source": [
        "conv = torch.nn.Conv2d(1,8,(2,2))\n",
        "conv.weight.data.shape,conv.bias.data.shape"
      ],
      "id": "31bdb262-701f-43ab-b41a-3490cbfd7355"
    },
    {
      "cell_type": "code",
      "execution_count": 63,
      "metadata": {
        "tags": []
      },
      "outputs": [],
      "source": [
        "conv(_X).reshape(-1)"
      ],
      "id": "828e058b-37c4-4bc9-8b8c-8fc2b7db6d9a"
    },
    {
      "cell_type": "code",
      "execution_count": 64,
      "metadata": {
        "tags": []
      },
      "outputs": [],
      "source": [
        "torch.sum(conv.weight.data[0,...])+conv.bias.data[0],\\\n",
        "torch.sum(conv.weight.data[1,...])+conv.bias.data[1]"
      ],
      "id": "12fbf7a3-8920-4689-9302-03d26d104b71"
    },
    {
      "cell_type": "markdown",
      "metadata": {},
      "source": [
        "결국 아래를 계산한다는 의미"
      ],
      "id": "de7df2fc-a225-4e4e-b684-bfa9f0ac7bac"
    },
    {
      "cell_type": "code",
      "execution_count": 73,
      "metadata": {
        "tags": []
      },
      "outputs": [],
      "source": [
        "torch.sum(conv.weight.data,axis=(2,3)).reshape(-1) + conv.bias.data"
      ],
      "id": "3eb0d8d9-bc97-4c96-b834-de8084bb70de"
    },
    {
      "cell_type": "code",
      "execution_count": 74,
      "metadata": {
        "tags": []
      },
      "outputs": [],
      "source": [
        "conv(_X).reshape(-1)"
      ],
      "id": "fdcac56e-2690-41b3-b32f-9faa9b1e9ed1"
    },
    {
      "cell_type": "markdown",
      "metadata": {},
      "source": [
        "## D. ReLU (2d)"
      ],
      "id": "ed7d7dc5-9a48-4854-ba3c-c3777b974b2f"
    },
    {
      "cell_type": "code",
      "execution_count": 92,
      "metadata": {
        "tags": []
      },
      "outputs": [],
      "source": [
        "_X = torch.randn(25).reshape(1,1,5,5)\n",
        "_X"
      ],
      "id": "550c2bff-76af-410f-ba7b-2d3d1ef5c839"
    },
    {
      "cell_type": "code",
      "execution_count": 93,
      "metadata": {
        "tags": []
      },
      "outputs": [],
      "source": [
        "a1=torch.nn.ReLU()"
      ],
      "id": "095f2f5b-a50d-446b-b64e-30662f0266bc"
    },
    {
      "cell_type": "code",
      "execution_count": 94,
      "metadata": {
        "tags": []
      },
      "outputs": [],
      "source": [
        "a1(_X)"
      ],
      "id": "5c2eff9f-d611-4e6b-84b0-84943830baf2"
    },
    {
      "cell_type": "markdown",
      "metadata": {},
      "source": [
        "## E. Maxpooling 레이어"
      ],
      "id": "548e0e7b-893f-42f8-8069-33f45368f3fa"
    },
    {
      "cell_type": "code",
      "execution_count": 95,
      "metadata": {
        "tags": []
      },
      "outputs": [],
      "source": [
        "_maxpooling = torch.nn.MaxPool2d((2,2))"
      ],
      "id": "845179b1-e4a5-4246-9666-a6d0a4e6980e"
    },
    {
      "cell_type": "code",
      "execution_count": 96,
      "metadata": {
        "tags": []
      },
      "outputs": [],
      "source": [
        "_X = torch.arange(16).float().reshape(1,1,4,4) "
      ],
      "id": "b17b5b1f-70a5-439b-8209-df7ba92d3f99"
    },
    {
      "cell_type": "code",
      "execution_count": 97,
      "metadata": {
        "tags": []
      },
      "outputs": [],
      "source": [
        "_X, _maxpooling(_X) "
      ],
      "id": "9ff053b3-142c-4120-8139-09ba2aa0484b"
    },
    {
      "cell_type": "code",
      "execution_count": 98,
      "metadata": {
        "tags": []
      },
      "outputs": [],
      "source": [
        "_X = torch.arange(25).float().reshape(1,1,5,5) "
      ],
      "id": "8ee26c2d-6933-441f-ba7b-40d3f67ca600"
    },
    {
      "cell_type": "code",
      "execution_count": 99,
      "metadata": {
        "tags": []
      },
      "outputs": [],
      "source": [
        "_X, _maxpooling(_X) "
      ],
      "id": "072cfbe7-7393-453d-aff3-0873d1628dd9"
    },
    {
      "cell_type": "code",
      "execution_count": 100,
      "metadata": {
        "tags": []
      },
      "outputs": [],
      "source": [
        "_X = torch.arange(36).float().reshape(1,6,6) "
      ],
      "id": "3a166928-21fa-4fa8-8cad-e4e17c8946b5"
    },
    {
      "cell_type": "code",
      "execution_count": 102,
      "metadata": {
        "tags": []
      },
      "outputs": [],
      "source": [
        "_X, _maxpooling(_X)"
      ],
      "id": "3c66facb-2c11-48c3-a2b6-1bdbf370ba33"
    },
    {
      "cell_type": "markdown",
      "metadata": {},
      "source": [
        "# 5. MNIST(CPU)"
      ],
      "id": "7e376a94-7b8b-4883-9a4b-c94872d0cece"
    },
    {
      "cell_type": "code",
      "execution_count": 106,
      "metadata": {
        "tags": []
      },
      "outputs": [],
      "source": [
        "X.shape"
      ],
      "id": "b1c132d3-829b-4883-8dc1-690a05fa1cf4"
    },
    {
      "cell_type": "markdown",
      "metadata": {},
      "source": [
        "## A. Conv2d"
      ],
      "id": "81939927-14a1-42ab-b28b-4a5c82dabb1e"
    },
    {
      "cell_type": "code",
      "execution_count": 107,
      "metadata": {
        "tags": []
      },
      "outputs": [
        {
          "output_type": "stream",
          "name": "stdout",
          "text": [
            "torch.Size([12665, 1, 28, 28])\n",
            "torch.Size([12665, 16, 24, 24])"
          ]
        }
      ],
      "source": [
        "c1 = torch.nn.Conv2d(1,16,(5,5))\n",
        "print(X.shape)\n",
        "print(c1(X).shape)"
      ],
      "id": "c96ee07b-11c7-400d-9b93-e2adbaee9d25"
    },
    {
      "cell_type": "markdown",
      "metadata": {},
      "source": [
        "## B. ReLU"
      ],
      "id": "9c7fd289-f83f-4037-b35c-7a798b4756d4"
    },
    {
      "cell_type": "code",
      "execution_count": 108,
      "metadata": {
        "tags": []
      },
      "outputs": [
        {
          "output_type": "stream",
          "name": "stdout",
          "text": [
            "torch.Size([12665, 1, 28, 28])\n",
            "torch.Size([12665, 16, 24, 24])\n",
            "torch.Size([12665, 16, 24, 24])"
          ]
        }
      ],
      "source": [
        "a1 = torch.nn.ReLU()\n",
        "print(X.shape)\n",
        "print(c1(X).shape)\n",
        "print(a1(c1(X)).shape)"
      ],
      "id": "69feaeed-0882-4b42-8f96-8e086d33a059"
    },
    {
      "cell_type": "markdown",
      "metadata": {},
      "source": [
        "## C. MaxPool2D"
      ],
      "id": "eb4e6371-cffd-464f-8ae8-b2d005165ca2"
    },
    {
      "cell_type": "code",
      "execution_count": 109,
      "metadata": {
        "tags": []
      },
      "outputs": [
        {
          "output_type": "stream",
          "name": "stdout",
          "text": [
            "torch.Size([12665, 1, 28, 28])\n",
            "torch.Size([12665, 16, 24, 24])\n",
            "torch.Size([12665, 16, 24, 24])\n",
            "torch.Size([12665, 16, 12, 12])"
          ]
        }
      ],
      "source": [
        "m1 =  torch.nn.MaxPool2d((2,2)) \n",
        "print(X.shape)\n",
        "print(c1(X).shape)\n",
        "print(a1(c1(X)).shape)\n",
        "print(m1(a1(c1(X))).shape)"
      ],
      "id": "79aeab16-58f4-48bb-9b14-8b1cd1a490f9"
    },
    {
      "cell_type": "markdown",
      "metadata": {},
      "source": [
        "## D. 적당히 마무리하고 시그모이드 태우자\n",
        "\n",
        "`-` 펼치자.\n",
        "\n",
        "(방법1)"
      ],
      "id": "785fed19-d3da-4d0b-bdbb-ecee665a66a3"
    },
    {
      "cell_type": "code",
      "execution_count": 110,
      "metadata": {
        "tags": []
      },
      "outputs": [],
      "source": [
        "m1(a1(c1(X))).reshape(-1,2304).shape"
      ],
      "id": "d8f6ff0a-3c44-436e-a5de-859bfb26fb0f"
    },
    {
      "cell_type": "code",
      "execution_count": 111,
      "metadata": {
        "tags": []
      },
      "outputs": [],
      "source": [
        "16*12*12 "
      ],
      "id": "e90e25a7-ea6a-4931-a9e1-8b0a036dd498"
    },
    {
      "cell_type": "markdown",
      "metadata": {},
      "source": [
        "(방법2)"
      ],
      "id": "17021c57-474d-423d-9854-9ce1dc41c526"
    },
    {
      "cell_type": "code",
      "execution_count": 112,
      "metadata": {
        "tags": []
      },
      "outputs": [],
      "source": [
        "flttn = torch.nn.Flatten()"
      ],
      "id": "bb37b55e-2978-4cdf-8a6c-a79857532e43"
    },
    {
      "cell_type": "code",
      "execution_count": 113,
      "metadata": {
        "tags": []
      },
      "outputs": [
        {
          "output_type": "stream",
          "name": "stdout",
          "text": [
            "torch.Size([12665, 1, 28, 28])\n",
            "torch.Size([12665, 16, 24, 24])\n",
            "torch.Size([12665, 16, 24, 24])\n",
            "torch.Size([12665, 16, 12, 12])\n",
            "torch.Size([12665, 2304])"
          ]
        }
      ],
      "source": [
        "print(X.shape)\n",
        "print(c1(X).shape)\n",
        "print(a1(c1(X)).shape)\n",
        "print(m1(a1(c1(X))).shape)\n",
        "print(flttn(m1(a1(c1(X)))).shape)"
      ],
      "id": "00814dfa-c0db-45d5-adc1-8a310396f3a1"
    },
    {
      "cell_type": "markdown",
      "metadata": {},
      "source": [
        "`-` 2304 $\\to$ 1 로 차원축소하는 선형레이어를 설계"
      ],
      "id": "f9f06021-9749-40a4-bafa-b42e3ec191bd"
    },
    {
      "cell_type": "code",
      "execution_count": 114,
      "metadata": {
        "tags": []
      },
      "outputs": [
        {
          "output_type": "stream",
          "name": "stdout",
          "text": [
            "torch.Size([12665, 1, 28, 28])\n",
            "torch.Size([12665, 16, 24, 24])\n",
            "torch.Size([12665, 16, 24, 24])\n",
            "torch.Size([12665, 16, 12, 12])\n",
            "torch.Size([12665, 2304])\n",
            "torch.Size([12665, 1])"
          ]
        }
      ],
      "source": [
        "l1 = torch.nn.Linear(in_features=2304,out_features=1) \n",
        "print(X.shape)\n",
        "print(c1(X).shape)\n",
        "print(a1(c1(X)).shape)\n",
        "print(m1(a1(c1(X))).shape)\n",
        "print(flttn(m1(a1(c1(X)))).shape)\n",
        "print(l1(flttn(m1(a1(c1(X))))).shape)"
      ],
      "id": "ec891599-8195-4d5e-8f4c-562d6abb12a1"
    },
    {
      "cell_type": "markdown",
      "metadata": {},
      "source": [
        "`-` 시그모이드"
      ],
      "id": "d84a15ce-77bd-43e4-9636-19c94340097b"
    },
    {
      "cell_type": "code",
      "execution_count": 115,
      "metadata": {
        "tags": []
      },
      "outputs": [],
      "source": [
        "a2 = torch.nn.Sigmoid()"
      ],
      "id": "d040d9be-3c8c-4221-bc1e-0e7de6b7c239"
    },
    {
      "cell_type": "code",
      "execution_count": 116,
      "metadata": {
        "tags": []
      },
      "outputs": [
        {
          "output_type": "stream",
          "name": "stdout",
          "text": [
            "torch.Size([12665, 1, 28, 28])\n",
            "torch.Size([12665, 16, 24, 24])\n",
            "torch.Size([12665, 16, 24, 24])\n",
            "torch.Size([12665, 16, 12, 12])\n",
            "torch.Size([12665, 2304])\n",
            "torch.Size([12665, 1])\n",
            "torch.Size([12665, 1])"
          ]
        }
      ],
      "source": [
        "l1 = torch.nn.Linear(in_features=2304,out_features=1) \n",
        "print(X.shape)\n",
        "print(c1(X).shape)\n",
        "print(a1(c1(X)).shape)\n",
        "print(m1(a1(c1(X))).shape)\n",
        "print(flttn(m1(a1(c1(X)))).shape)\n",
        "print(l1(flttn(m1(a1(c1(X))))).shape)\n",
        "print(a1(l1(flttn(m1(a1(c1(X)))))).shape)"
      ],
      "id": "630d9e5e-9bb5-41cd-80a8-e6bdb1545f73"
    },
    {
      "cell_type": "markdown",
      "metadata": {},
      "source": [
        "## E. 학습\n",
        "\n",
        "`-` 네트워크 설계"
      ],
      "id": "a3e8bad6-70fd-431b-891c-cb12c585a90c"
    },
    {
      "cell_type": "code",
      "execution_count": 207,
      "metadata": {
        "tags": []
      },
      "outputs": [],
      "source": [
        "net = torch.nn.Sequential(\n",
        "    c1, # 2d: 컨볼루션(선형변환), 피처 뻥튀기 \n",
        "    a1, # 2d: 렐루(비선형변환)\n",
        "    m1, # 2d: 맥스풀링: 데이터요약\n",
        "    flttn, # 2d->1d \n",
        "    l1, # 1d: 선형변환\n",
        "    a2 # 1d: 시그모이드(비선형변환) \n",
        ")\n",
        "loss_fn = torch.nn.BCELoss()\n",
        "optimizr = torch.optim.Adam(net.parameters())\n",
        "for epoc in range(50): \n",
        "    ## 1\n",
        "    yhat = net(X) \n",
        "    ## 2\n",
        "    loss = loss_fn(yhat,y) \n",
        "    ## 3\n",
        "    loss.backward()\n",
        "    ## 4\n",
        "    optimizr.step()\n",
        "    optimizr.zero_grad()"
      ],
      "id": "8f362c75-6e59-4f3c-8019-fe339faf81d8"
    },
    {
      "cell_type": "code",
      "execution_count": 208,
      "metadata": {
        "tags": []
      },
      "outputs": [
        {
          "output_type": "display_data",
          "metadata": {},
          "data": {
            "image/png": "[encoded data removed]"
          }
        }
      ],
      "source": [
        "plt.plot(y)\n",
        "plt.plot(net(X).data,'.')\n",
        "plt.title('Traning Set',size=15)"
      ],
      "id": "e2bf1cdd-a66b-4d8e-9928-039e436099ba"
    },
    {
      "cell_type": "code",
      "execution_count": 209,
      "metadata": {
        "tags": []
      },
      "outputs": [
        {
          "output_type": "display_data",
          "metadata": {},
          "data": {
            "image/png": "[encoded data removed]"
          }
        }
      ],
      "source": [
        "plt.plot(yy)\n",
        "plt.plot(net(XX).data,'.')\n",
        "plt.title('Test Set',size=15)"
      ],
      "id": "2aa2efbb-9fb9-416b-8952-6685b41c9030"
    },
    {
      "cell_type": "code",
      "execution_count": 144,
      "metadata": {
        "tags": []
      },
      "outputs": [],
      "source": [
        "[np.prod(list(para.shape)) for para in net.parameters()]"
      ],
      "id": "29a77276-bbdb-4754-a0e2-fe0ced25bcb2"
    },
    {
      "cell_type": "markdown",
      "metadata": {},
      "source": [
        "# 6. MNIST (GPU)"
      ],
      "id": "1c930dee-5dce-42b3-baa8-e3bd25da13c1"
    },
    {
      "cell_type": "code",
      "execution_count": 225,
      "metadata": {
        "tags": []
      },
      "outputs": [],
      "source": [
        "ds = torch.utils.data.TensorDataset(X,y)\n",
        "dl = torch.utils.data.DataLoader(ds,batch_size=128)\n",
        "#--#\n",
        "net = torch.nn.Sequential(\n",
        "    torch.nn.Conv2d(1,16,(5,5)),\n",
        "    torch.nn.ReLU(),\n",
        "    torch.nn.MaxPool2d((2,2)),\n",
        "    torch.nn.Flatten(),\n",
        "    torch.nn.Linear(2304,1),\n",
        "    torch.nn.Sigmoid()\n",
        ")\n",
        "loss_fn = torch.nn.BCELoss()\n",
        "optimizr = torch.optim.Adam(net.parameters())\n",
        "#--#\n",
        "net.to(\"cuda:0\")\n",
        "for epoc in range(5): \n",
        "    for xi,yi in dl: \n",
        "        ## 1\n",
        "        netout = net(xi.to(\"cuda:0\")) \n",
        "        ## 2\n",
        "        loss = loss_fn(netout,yi.to(\"cuda:0\")) \n",
        "        ## 3\n",
        "        loss.backward()\n",
        "        ## 4\n",
        "        optimizr.step()\n",
        "        optimizr.zero_grad()"
      ],
      "id": "117604c0-6060-4e77-a4b1-5f8ff72eab10"
    },
    {
      "cell_type": "code",
      "execution_count": 226,
      "metadata": {
        "tags": []
      },
      "outputs": [
        {
          "output_type": "display_data",
          "metadata": {},
          "data": {
            "image/png": "[encoded data removed]"
          }
        }
      ],
      "source": [
        "net.to(\"cpu\")\n",
        "plt.plot(y)\n",
        "plt.plot(net(X).data,'.')\n",
        "plt.title(\"Training Set\")"
      ],
      "id": "a47a0262-fa48-4cde-9d02-b75c71fc9ac3"
    },
    {
      "cell_type": "code",
      "execution_count": 227,
      "metadata": {
        "tags": []
      },
      "outputs": [
        {
          "output_type": "display_data",
          "metadata": {},
          "data": {
            "image/png": "[encoded data removed]"
          }
        }
      ],
      "source": [
        "#net.to(\"cpu\")\n",
        "plt.plot(yy)\n",
        "plt.plot(net(XX).data,'.')"
      ],
      "id": "6a3438c8-25f9-41a5-a47d-f6373316433c"
    },
    {
      "cell_type": "markdown",
      "metadata": {},
      "source": [
        "# A1. 자잘한 용어 정리 ($\\star$)\n",
        "\n",
        "## A. 지도학습\n",
        "\n",
        "`-` 우리가 수업에서 다루는 데이터는 주로 아래와 같은 느낌이다.\n",
        "\n",
        "1.  데이터는 $(X,y)$의 형태로 정리되어 있다.\n",
        "\n",
        "2.  $y$는 우리가 관심이 있는 변수이다. 즉 우리는 $y$를 적절하게 추정하는\n",
        "    것에 관심이 있다.\n",
        "\n",
        "3.  $X$는 $y$를 추정하기 위해 필요한 정보이다.\n",
        "\n",
        "|  $X$ = 설명변수 = 독립변수   | $y$ = 반응변수 = 종속변수  |     비고     |     순서     |           예시           |\n",
        "|:-------------:|:-------------:|:-------------:|:-------------:|:-------------:|\n",
        "|            이미지            |          카테고리          | 합성곱신경망 |   상관없음   |  개/고양이 이미지 구분   |\n",
        "|         유저,아이템          |            평점            |  추천시스템  |   상관없음   |    넷플릭스 영화추천     |\n",
        "|     과거~오늘까지의주가      |          내일주가          |  순환신경망  | 순서상관있음 |         주가예측         |\n",
        "| 처음 $m$개의 단어(혹은 문장) | 이후 1개의 단어(혹은 문장) |  순환신경망  | 순서상관있음 |     챗봇, 텍스트생성     |\n",
        "| 처음 $m$개의 단어(혹은 문장) |          카테고리          |  순환신경망  | 순서상관있음 | 영화리뷰 텍스트 감정분류 |\n",
        "\n",
        "`-` 이러한 문제상황, 즉 $(X,y)$가 주어졌을때 $X \\to y$를 추정하는 문제를\n",
        "supervised learning 이라한다.\n",
        "\n",
        "## B. 모델이란?\n",
        "\n",
        "> 모델이란 단어는 제 발작버튼이었어요..\n",
        "\n",
        "`-` 통계학에서 모델은 y와 x의 관계를 의미하며 오차항의 설계를 포함하는\n",
        "개념이다. 이는 통계학이 “데이터 = 정보 + 오차”의 관점을 유지하기\n",
        "때문이다. 따라서 통계학에서 모델링이란\n",
        "\n",
        "$$y_i = net(x_i) + \\epsilon_i$$\n",
        "\n",
        "에서 (1) 적절한 함수 $net$를 선택하는 일 (2) 적절한 오차항 $\\epsilon_i$\n",
        "을 설계하는일 모두를 포함한다.\n",
        "\n",
        "`-` 딥러닝 혹은 머신러닝에서 모델은 단순히\n",
        "\n",
        "$$y_i \\approx net(x_i)$$\n",
        "\n",
        "를 의미하는 경우가 많다. 즉 “model=net”라고 생각해도 무방하다. 이 경우\n",
        "“모델링”이란 단순히 적절한 $net$을 설계하는 것만을 의미할 경우가 많다.\n",
        "\n",
        "`-` 그래서 생긴일\n",
        "\n",
        "-   통계학교재 특: 분류문제와 회귀문제를 엄밀하게 구분하지 않는다. 사실\n",
        "    오차항만 다를뿐이지 크게보면 같은 회귀모형이라는 관점이다. 그래서\n",
        "    일반화선형모형(GLM)이라는 용어를 쓴다.\n",
        "-   머신러닝/딥러닝교재 특: 회귀문제와 분류문제를 구분해서 설명한다.\n",
        "    (표도 만듦) 이는 오차항에 대한 기술을 모호하게 하여 생기는 현상이다.\n",
        "\n",
        "## C. 학습이란?\n",
        "\n",
        "`-` 학습이란 주어진 자료 $(X,y)$를 잘 분석하여 $X$에서 $y$로 가는 어떠한\n",
        "“규칙” 혹은 “원리”를 찾는 것이다.\n",
        "\n",
        "-   학습이란 주어진 자료 $(X,y)$를 잘 분석하여 $X$에서 $y$로 가는 어떠한\n",
        "    “맵핑”을 찾는 것이다.\n",
        "-   학습이란 주어진 자료 $(X,y)$를 잘 분석하여 $X$에서 $y$로 가는 어떠한\n",
        "    “함수”을 찾는 것이다. 즉 $y\\approx f(X)$가 되도록 만드는 $f$를 잘\n",
        "    찾는 것이다. (이 경우 “함수를 추정한다”라고 표현)\n",
        "-   학습이란 주어진 자료 $(X,y)$를 잘 분석하여 $X$에서 $y$로 가는 어떠한\n",
        "    “모델” 혹은 “모형”을 찾는 것이다. 즉 $y\\approx model(X)$가 되도록\n",
        "    만드는 $model$을 잘 찾는 것이다. (이 경우 “모형을 학습시킨다”라고\n",
        "    표현)\n",
        "-   **학습이란 주어진 자료 $(X,y)$를 잘 분석하여 $X$에서 $y$로 가는\n",
        "    어떠한 “네트워크”을 찾는 것이다. 즉 $y\\approx net(X)$가 되도록\n",
        "    만드는 $net$을 잘 찾는 것이다. (이 경우 “네트워크를 학습시킨다”라고\n",
        "    표현)**\n",
        "\n",
        "`-` prediction이란 학습과정에서 찾은 “규칙” 혹은 “원리”를 $X$에 적용하여\n",
        "$\\hat{y}$을 구하는 과정이다. 학습과정에서 찾은 규칙 혹은 원리는\n",
        "$f$,$model$,$net$ 으로 생각가능한데 이에 따르면 아래가 성립한다.\n",
        "\n",
        "-   $\\hat{y} = f(X)$\n",
        "-   $\\hat{y} = model(X)$\n",
        "-   $\\hat{y} = net(X)$\n",
        "\n",
        "## D. $\\hat{y}$를 부르는 다양한 이름\n",
        "\n",
        "`-` $\\hat{y}$는 $X$가 주어진 자료에 있는 값인지 아니면 새로운 값 인지에\n",
        "따라 지칭하는 이름이 미묘하게 다르다.\n",
        "\n",
        "1.  $X \\in data$: $\\hat{y}=net(X)$ 는 predicted value, fitted value 라고\n",
        "    부른다.\n",
        "\n",
        "2.  $X \\notin data$: $\\hat{y}=net(X)$ 는 predicted value, predicted\n",
        "    value with new data 라고 부른다.\n",
        "\n",
        "`-` 경우1은 “$loss$ = $y$ 와 $\\hat{y}$ 의 차이” 를 정의할 수 있으나\n",
        "경우2는 그렇지 않다.\n",
        "\n",
        "## E. 다양한 코드들\n",
        "\n",
        "`-` 파이썬 코드..\n",
        "\n",
        "``` python\n",
        "#Python\n",
        "predictor.fit(X,y) # autogluon 에서 \"학습\"을 의미하는 과정\n",
        "model.fit(X,y) # sklearn 에서 \"학습\"을 의미하는 과정\n",
        "learner.learn() # fastai 에서 \"학습\"을 의미하는 과정\n",
        "learner.fine_tune(1) # fastai 에서 \"부분학습\"을 의미하는 과정\n",
        "learner.predict(cat1) # fastai 에서 \"예측\"을 의미하는 과정 \n",
        "model.fit(x, y, batch_size=32, epochs=10) # keras에서 \"학습\"을 의미하는 과정\n",
        "model.predict(test_img) # keras에서 \"예측\"을 의미하는 과정 \n",
        "```\n",
        "\n",
        "`-` R 코드..\n",
        "\n",
        "``` r\n",
        "# R\n",
        "ols <- lm(y~x) # 선형회귀분석에서 학습을 의미하는 함수\n",
        "ols$fitted.values # 선형회귀분석에서 yhat을 출력 \n",
        "predict(ols, newdata=test) # 선형회귀분석에서 test에 대한 예측값을 출력하는 함수\n",
        "ols$coef # 선형회귀분석에서 weight를 확인하는 방법\n",
        "```\n",
        "\n",
        "# A2. 참고자료들\n",
        "\n",
        "`-` 케라스/텐서플로우: <https://guebin.github.io/STBDA2022/>\n",
        "\n",
        "`-` 상속:\n",
        "<https://guebin.github.io/PP2023/posts/03_Class/2023-06-12-15wk-1.html>\n",
        "\n",
        "`-` sklearn/autogluon: <https://guebin.github.io/MP2023/>\n",
        "\n",
        "`-` 리눅스관련: <https://guebin.github.io/DSTBX2024/> – 자료 부실함..\n",
        "강의영상 없는것 많음.."
      ],
      "id": "b184804b-9d7d-4d0c-ae86-e383f5f15357"
    }
  ],
  "nbformat": 4,
  "nbformat_minor": 5,
  "metadata": {
    "kernelspec": {
      "name": "python3",
      "display_name": "Python 3 (ipykernel)",
      "language": "python"
    },
    "language_info": {
      "name": "python",
      "codemirror_mode": {
        "name": "ipython",
        "version": "3"
      },
      "file_extension": ".py",
      "mimetype": "text/x-python",
      "nbconvert_exporter": "python",
      "pygments_lexer": "ipython3",
      "version": "3.11.8"
    }
  }
}