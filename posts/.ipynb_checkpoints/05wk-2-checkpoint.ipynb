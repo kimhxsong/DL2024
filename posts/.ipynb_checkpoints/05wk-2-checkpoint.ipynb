{
 "cells": [
  {
   "cell_type": "raw",
   "id": "c3a1f547-5d0b-43e7-8761-4166fa5999e2",
   "metadata": {
    "id": "87b5cded-346b-4915-acf5-b5ec93a5207d"
   },
   "source": [
    "---\n",
    "title: \"05wk-2: 합성곱신경망 (1) \"\n",
    "author: \"최규빈\"\n",
    "date: \"04/03/2024\"\n",
    "---"
   ]
  },
  {
   "cell_type": "markdown",
   "id": "255877c4-49cb-4246-bd14-829af4167cf4",
   "metadata": {
    "id": "e67ab8e0"
   },
   "source": [
    "<a href=\"https://colab.research.google.com/github/guebin/DL2024/blob/main/posts/05wk-2.ipynb\"><img src=\"https://colab.research.google.com/assets/colab-badge.svg\" style=\"text-align: left\"></a>"
   ]
  },
  {
   "cell_type": "markdown",
   "id": "e6564317-59eb-42cb-9c40-1388802e0bb1",
   "metadata": {
    "id": "4d47a7c9",
    "tags": []
   },
   "source": [
    "# 1. 강의영상"
   ]
  },
  {
   "cell_type": "code",
   "execution_count": 1,
   "id": "4642cf89-5814-4fe6-add1-6e4570f9d96c",
   "metadata": {
    "tags": []
   },
   "outputs": [],
   "source": [
    "#{{<video https://youtu.be/playlist?list=PLQqh36zP38-wjNGgd4gmQJbQ66NLjUC2y&si=dusDZAwGOJS9TOKJ >}}"
   ]
  },
  {
   "cell_type": "markdown",
   "id": "f75afe6d-bc27-49c8-aea4-637ca5aa2af7",
   "metadata": {},
   "source": [
    "# 2. Imports"
   ]
  },
  {
   "cell_type": "code",
   "execution_count": 4,
   "id": "b97e7cfa-2e5c-4b08-b735-5ff46de7869b",
   "metadata": {
    "tags": []
   },
   "outputs": [],
   "source": [
    "import torch\n",
    "import matplotlib.pyplot as plt\n",
    "from fastai.data.all import *\n",
    "import torchvision"
   ]
  },
  {
   "cell_type": "markdown",
   "id": "8f1a7af6-7c49-43c1-91ee-09b46ef64123",
   "metadata": {},
   "source": [
    "# 3. Data: MNIST"
   ]
  },
  {
   "cell_type": "markdown",
   "id": "47366f72-7f77-428f-bc74-c4722586d785",
   "metadata": {},
   "source": [
    "`-` download data "
   ]
  },
  {
   "cell_type": "code",
   "execution_count": 124,
   "id": "21f4d9dc-8718-40dc-b172-9edc1db81f7b",
   "metadata": {
    "tags": []
   },
   "outputs": [],
   "source": [
    "path = untar_data(URLs.MNIST)"
   ]
  },
  {
   "cell_type": "markdown",
   "id": "5197bd67-d696-45e9-8b3b-9cc558a64f8a",
   "metadata": {},
   "source": [
    "`-` training set "
   ]
  },
  {
   "cell_type": "code",
   "execution_count": 125,
   "id": "2a603395-ae40-4643-8e75-a2b08db12dac",
   "metadata": {
    "tags": []
   },
   "outputs": [],
   "source": [
    "X0 = torch.stack([torchvision.io.read_image(str(fname)) for fname in (path/'training/0').ls()])\n",
    "X1 = torch.stack([torchvision.io.read_image(str(fname)) for fname in (path/'training/1').ls()])\n",
    "X = torch.concat([X0,X1])/255\n",
    "y = torch.tensor([0.0]*len(X0) + [1.0]*len(X1)).reshape(-1,1)"
   ]
  },
  {
   "cell_type": "markdown",
   "id": "7a275966-b68d-4bbb-8229-3992493ad362",
   "metadata": {},
   "source": [
    "`-` test set "
   ]
  },
  {
   "cell_type": "code",
   "execution_count": 126,
   "id": "42fb9db2-8283-4c51-9a81-dbeace08d5ef",
   "metadata": {
    "tags": []
   },
   "outputs": [],
   "source": [
    "X0 = torch.stack([torchvision.io.read_image(str(fname)) for fname in (path/'testing/0').ls()])\n",
    "X1 = torch.stack([torchvision.io.read_image(str(fname)) for fname in (path/'testing/1').ls()])\n",
    "XX = torch.concat([X0,X1])/255\n",
    "yy = torch.tensor([0.0]*len(X0) + [1.0]*len(X1)).reshape(-1,1)"
   ]
  },
  {
   "cell_type": "code",
   "execution_count": 127,
   "id": "bf310997-830b-4ec7-897d-d1d6cfdf697e",
   "metadata": {
    "tags": []
   },
   "outputs": [
    {
     "data": {
      "text/plain": [
       "(torch.Size([12665, 1, 28, 28]),\n",
       " torch.Size([2115, 1, 28, 28]),\n",
       " torch.Size([12665, 1]),\n",
       " torch.Size([2115, 1]))"
      ]
     },
     "execution_count": 127,
     "metadata": {},
     "output_type": "execute_result"
    }
   ],
   "source": [
    "X.shape,XX.shape,y.shape,yy.shape"
   ]
  },
  {
   "cell_type": "markdown",
   "id": "a53cfd48-37df-4276-919d-d753314dea14",
   "metadata": {},
   "source": [
    "# 4. CNN 예비학습"
   ]
  },
  {
   "cell_type": "markdown",
   "id": "09657ca1-f64d-4850-84df-f78594d87e00",
   "metadata": {},
   "source": [
    "## A. 기존모형에 대한 불만"
   ]
  },
  {
   "cell_type": "markdown",
   "id": "a31b94fd-6c00-4b4f-a8ba-7c491c4db243",
   "metadata": {},
   "source": [
    "![](https://guebin.github.io/DL2022/posts/III.%20CNN/2022-10-18-7wk-2_files/figure-html/cell-8-output-1.svg)"
   ]
  },
  {
   "cell_type": "markdown",
   "id": "7ae3bd03-56b0-46eb-9edf-2fc8d8ed1698",
   "metadata": {},
   "source": [
    "`-` 왜 28 $\\times$ 28 이미지를 784개의 벡터로 만든 다음에 모형을 돌려야 하는가? "
   ]
  },
  {
   "cell_type": "markdown",
   "id": "ff01408d-84a3-466a-bfb4-92ce35021f1a",
   "metadata": {},
   "source": [
    "`-` 기존에 개발된 모형이 회귀분석 기반으로 되어있어서 결국 회귀분석 틀에 짜 맞추어서 이미지자료를 분석하는 느낌 "
   ]
  },
  {
   "cell_type": "markdown",
   "id": "37028e79-1d26-48c0-a337-1c6c3e0e53ea",
   "metadata": {},
   "source": [
    "`-` observation의 차원은 $784$가 아니라 $1\\times (28\\times 28)$이 되어야 맞다. "
   ]
  },
  {
   "cell_type": "markdown",
   "id": "bd3d8d99-e18b-43ed-9787-841c0a7475cf",
   "metadata": {},
   "source": [
    "## B. 새로운 아키텍처의 제시"
   ]
  },
  {
   "cell_type": "markdown",
   "id": "2170a392-e9e5-4c76-b522-230953929419",
   "metadata": {},
   "source": [
    "`-` 예전 아키텍처들\n",
    "\n",
    "- $\\underset{(n,1)}{\\bf X} \\overset{l_1}{\\to} \\underset{(n,2)}{\\boldsymbol u^{(1)}} \\overset{relu}{\\to} \\underset{(n,2)}{\\boldsymbol v^{(1)}} \\overset{l_1}{\\to} \\underset{(n,1)}{\\boldsymbol u^{(2)}} \\overset{sig}{\\to} \\underset{(n,1)}{\\boldsymbol v^{(2)}}=\\underset{(n,1)}{\\hat{\\boldsymbol y}}$\n",
    "- $\\underset{(n,1)}{\\bf X} \\overset{l_1}{\\to} \\underset{(n,256)}{\\boldsymbol u^{(1)}} \\overset{relu}{\\to} \\underset{(n,256)}{\\boldsymbol v^{(1)}} \\overset{l_1}{\\to} \\underset{(n,1)}{\\boldsymbol u^{(2)}} \\overset{sig}{\\to} \\underset{(n,1)}{\\boldsymbol v^{(2)}}=\\underset{(n,1)}{\\hat{\\boldsymbol y}}$\n",
    "- $\\underset{(n,784)}{\\bf X} \\overset{l_1}{\\to} \\underset{(n,30)}{\\boldsymbol u^{(1)}} \\overset{relu}{\\to} \\underset{(n,30)}{\\boldsymbol v^{(1)}} \\overset{l_2}{\\to} \\underset{(n,1)}{\\boldsymbol u^{(2)}} \\overset{sig}{\\to} \\underset{(n,1)}{\\boldsymbol v^{(2)}}=\\underset{(n,1)}{\\hat{\\boldsymbol y}}$"
   ]
  },
  {
   "cell_type": "markdown",
   "id": "905c1374-baf0-4cb2-bc9b-bb62dad9bae0",
   "metadata": {},
   "source": [
    "`-` 아키텍처들의 공통점? "
   ]
  },
  {
   "cell_type": "markdown",
   "id": "8cbd46d9-7671-4c93-bd39-7c0779310eaa",
   "metadata": {},
   "source": [
    "- $l_1$: 선형변환, feature를 뽑아내는 역할 (뻥튀기 혹은 요약)\n",
    "- $relu$: 뻥튀기된 feature에 비선형을 추가하여 표현력 극대화 \n",
    "- $l_2$: 선형변환, 뻥튀기된 feature를 요약 하는 역할 (=데이터를 요약하는 역할) "
   ]
  },
  {
   "cell_type": "markdown",
   "id": "b2a01ff2-8501-41ab-a1d4-40e7e9e1f6f2",
   "metadata": {},
   "source": [
    "`-` 새로운 아키텍처 \n",
    "\n",
    "- $conv$: feature를 뽑아내는 역할 (뻥튀기 혹은 요약) (2d ver $l_1$ 느낌) \n",
    "- $relu$: \n",
    "- $pooling$: 데이터를 요약하는 역할 "
   ]
  },
  {
   "cell_type": "markdown",
   "id": "7e9cce25-80d7-4d9d-8bfa-484930a7f612",
   "metadata": {},
   "source": [
    "## C. CONV 레이어 (선형변환의 2D 버전) "
   ]
  },
  {
   "cell_type": "markdown",
   "id": "d20cd62d-97e6-4b9a-ac50-3526a434fefd",
   "metadata": {},
   "source": [
    "`-` 우선 연산하는 방법만 살펴보자. "
   ]
  },
  {
   "cell_type": "markdown",
   "id": "dabc4e04-f67a-4687-85a8-04c12e8a233b",
   "metadata": {},
   "source": [
    "**(예시1)**"
   ]
  },
  {
   "cell_type": "code",
   "execution_count": 46,
   "id": "df01e491-f635-4cbc-a73f-a01d9333bb5f",
   "metadata": {
    "tags": []
   },
   "outputs": [
    {
     "data": {
      "text/plain": [
       "(tensor([[[[-0.1733, -0.4235],\n",
       "           [ 0.1802,  0.4668]]]]),\n",
       " tensor([0.2037]))"
      ]
     },
     "execution_count": 46,
     "metadata": {},
     "output_type": "execute_result"
    }
   ],
   "source": [
    "torch.manual_seed(43052)\n",
    "conv = torch.nn.Conv2d(1,1,(2,2)) # 입력1, 출력1, (2,2) window size\n",
    "conv.weight.data, conv.bias.data"
   ]
  },
  {
   "cell_type": "code",
   "execution_count": 52,
   "id": "7ece5860-fa0f-4a98-9398-1e646ead26f9",
   "metadata": {
    "tags": []
   },
   "outputs": [
    {
     "data": {
      "text/plain": [
       "tensor([[[[0., 1.],\n",
       "          [2., 3.]]]])"
      ]
     },
     "execution_count": 52,
     "metadata": {},
     "output_type": "execute_result"
    }
   ],
   "source": [
    "_X = torch.arange(0,4).reshape(1,1,2,2).float() # 2,2 흑백이미지. \n",
    "_X"
   ]
  },
  {
   "cell_type": "code",
   "execution_count": 53,
   "id": "c8ea2954-5099-4c92-800c-6c055d9a49e4",
   "metadata": {
    "tags": []
   },
   "outputs": [
    {
     "data": {
      "text/plain": [
       "1.541"
      ]
     },
     "execution_count": 53,
     "metadata": {},
     "output_type": "execute_result"
    }
   ],
   "source": [
    "(-0.1733)*0 + (-0.4235)*1 +\\\n",
    "(0.1802)*2 + (0.4668)*3 + 0.2037"
   ]
  },
  {
   "cell_type": "code",
   "execution_count": 54,
   "id": "5ec03ae5-5f94-40b2-b1a3-4ee2e588e6ea",
   "metadata": {
    "tags": []
   },
   "outputs": [
    {
     "data": {
      "text/plain": [
       "tensor([[[[1.5000]]]], grad_fn=<ConvolutionBackward0>)"
      ]
     },
     "execution_count": 54,
     "metadata": {},
     "output_type": "execute_result"
    }
   ],
   "source": [
    "conv(_X)"
   ]
  },
  {
   "cell_type": "markdown",
   "id": "374d9d8c-4ff3-49d0-b9f8-473ab6e4902e",
   "metadata": {},
   "source": [
    "**(예시2) 잘하면 평균도 계산하겠다?**"
   ]
  },
  {
   "cell_type": "code",
   "execution_count": 50,
   "id": "830b1327-d85b-463a-b2c1-b9476252a6ea",
   "metadata": {
    "tags": []
   },
   "outputs": [],
   "source": [
    "conv.weight.data = torch.tensor([[[[1/4, 1/4],[1/4,1/4]]]])\n",
    "conv.bias.data = torch.tensor([0.0])"
   ]
  },
  {
   "cell_type": "code",
   "execution_count": 51,
   "id": "0c195c69-3998-4ee0-b92d-ae92c85d50d6",
   "metadata": {
    "tags": []
   },
   "outputs": [
    {
     "data": {
      "text/plain": [
       "(tensor([[[[1.5000]]]], grad_fn=<ConvolutionBackward0>), 1.5)"
      ]
     },
     "execution_count": 51,
     "metadata": {},
     "output_type": "execute_result"
    }
   ],
   "source": [
    "conv(_X) , (0+1+2+3)/4"
   ]
  },
  {
   "cell_type": "markdown",
   "id": "bf93abf6-db8b-47ec-a42e-c3c52c849cd7",
   "metadata": {},
   "source": [
    "**(예시3) 이동평균?**"
   ]
  },
  {
   "cell_type": "code",
   "execution_count": 55,
   "id": "1a71b90a-37c8-48c4-8663-1604cba16b20",
   "metadata": {
    "tags": []
   },
   "outputs": [
    {
     "data": {
      "text/plain": [
       "tensor([[[[ 0.,  1.,  2.,  3.,  4.],\n",
       "          [ 5.,  6.,  7.,  8.,  9.],\n",
       "          [10., 11., 12., 13., 14.],\n",
       "          [15., 16., 17., 18., 19.],\n",
       "          [20., 21., 22., 23., 24.]]]])"
      ]
     },
     "execution_count": 55,
     "metadata": {},
     "output_type": "execute_result"
    }
   ],
   "source": [
    "_X = torch.arange(0,25).float().reshape(1,1,5,5) \n",
    "_X"
   ]
  },
  {
   "cell_type": "code",
   "execution_count": 56,
   "id": "52a24c15-0b18-4163-9e51-eb5c9d1dc9ac",
   "metadata": {
    "tags": []
   },
   "outputs": [
    {
     "data": {
      "text/plain": [
       "tensor([[[[ 3.,  4.,  5.,  6.],\n",
       "          [ 8.,  9., 10., 11.],\n",
       "          [13., 14., 15., 16.],\n",
       "          [18., 19., 20., 21.]]]], grad_fn=<ConvolutionBackward0>)"
      ]
     },
     "execution_count": 56,
     "metadata": {},
     "output_type": "execute_result"
    }
   ],
   "source": [
    "conv(_X)"
   ]
  },
  {
   "cell_type": "markdown",
   "id": "9606c812-d6b3-4b1f-9466-3adfe8999cfd",
   "metadata": {},
   "source": [
    "**(예시4) window size가 증가한다면? (2d의 이동평균느낌)**"
   ]
  },
  {
   "cell_type": "code",
   "execution_count": 57,
   "id": "0ad3497d-339c-45fd-94a5-2934edb14a12",
   "metadata": {
    "tags": []
   },
   "outputs": [],
   "source": [
    "conv = torch.nn.Conv2d(1,1,(3,3)) # 입력1, 출력1, (3,3) window size\n",
    "conv.bias.data = torch.tensor([0.0])\n",
    "conv.weight.data = torch.tensor([[[[1/9,1/9,1/9],[1/9,1/9,1/9],[1/9,1/9,1/9]]]])"
   ]
  },
  {
   "cell_type": "code",
   "execution_count": 58,
   "id": "cbf92f33-1e27-4199-a50b-b0dbb8556097",
   "metadata": {
    "tags": []
   },
   "outputs": [
    {
     "data": {
      "text/plain": [
       "(tensor([[[[ 0.,  1.,  2.,  3.,  4.],\n",
       "           [ 5.,  6.,  7.,  8.,  9.],\n",
       "           [10., 11., 12., 13., 14.],\n",
       "           [15., 16., 17., 18., 19.],\n",
       "           [20., 21., 22., 23., 24.]]]]),\n",
       " tensor([[[[ 6.0000,  7.0000,  8.0000],\n",
       "           [11.0000, 12.0000, 13.0000],\n",
       "           [16.0000, 17.0000, 18.0000]]]], grad_fn=<ConvolutionBackward0>))"
      ]
     },
     "execution_count": 58,
     "metadata": {},
     "output_type": "execute_result"
    }
   ],
   "source": [
    "_X,conv(_X)"
   ]
  },
  {
   "cell_type": "code",
   "execution_count": 59,
   "id": "f4f92960-588e-443d-81fd-7f7646bead7b",
   "metadata": {
    "tags": []
   },
   "outputs": [
    {
     "data": {
      "text/plain": [
       "7.0"
      ]
     },
     "execution_count": 59,
     "metadata": {},
     "output_type": "execute_result"
    }
   ],
   "source": [
    "(1+2+3+6+7+8+11+12+13)/9"
   ]
  },
  {
   "cell_type": "markdown",
   "id": "986588a6-ba2b-4ca5-9a50-ab43a3ca1aab",
   "metadata": {},
   "source": [
    "**(예시5)** 2개의 이미지 "
   ]
  },
  {
   "cell_type": "code",
   "execution_count": 89,
   "id": "4d5d061d-b98d-4ec3-8119-85c1df220f6d",
   "metadata": {
    "tags": []
   },
   "outputs": [],
   "source": [
    "conv = torch.nn.Conv2d(1,1,(3,3)) # 입력1, 출력1, (3,3) window size\n",
    "conv.bias.data = torch.tensor([0.0])\n",
    "conv.weight.data = torch.tensor([[[[1/9,1/9,1/9],[1/9,1/9,1/9],[1/9,1/9,1/9]]]])"
   ]
  },
  {
   "cell_type": "code",
   "execution_count": 90,
   "id": "dfa7a18f-fbc1-481e-87d5-94c317b93b5b",
   "metadata": {
    "tags": []
   },
   "outputs": [
    {
     "data": {
      "text/plain": [
       "tensor([[[[ 0.,  1.,  2.,  3.,  4.],\n",
       "          [ 5.,  6.,  7.,  8.,  9.],\n",
       "          [10., 11., 12., 13., 14.],\n",
       "          [15., 16., 17., 18., 19.],\n",
       "          [20., 21., 22., 23., 24.]]],\n",
       "\n",
       "\n",
       "        [[[25., 26., 27., 28., 29.],\n",
       "          [30., 31., 32., 33., 34.],\n",
       "          [35., 36., 37., 38., 39.],\n",
       "          [40., 41., 42., 43., 44.],\n",
       "          [45., 46., 47., 48., 49.]]]])"
      ]
     },
     "execution_count": 90,
     "metadata": {},
     "output_type": "execute_result"
    }
   ],
   "source": [
    "_X = torch.arange(0,50).float().reshape(2,1,5,5) \n",
    "_X"
   ]
  },
  {
   "cell_type": "code",
   "execution_count": 91,
   "id": "4b452022-c8ee-490f-a85a-7377c768fd52",
   "metadata": {
    "tags": []
   },
   "outputs": [
    {
     "data": {
      "text/plain": [
       "tensor([[[[ 6.0000,  7.0000,  8.0000],\n",
       "          [11.0000, 12.0000, 13.0000],\n",
       "          [16.0000, 17.0000, 18.0000]]],\n",
       "\n",
       "\n",
       "        [[[31.0000, 32.0000, 33.0000],\n",
       "          [36.0000, 37.0000, 38.0000],\n",
       "          [41.0000, 42.0000, 43.0000]]]], grad_fn=<ConvolutionBackward0>)"
      ]
     },
     "execution_count": 91,
     "metadata": {},
     "output_type": "execute_result"
    }
   ],
   "source": [
    "conv(_X)"
   ]
  },
  {
   "cell_type": "markdown",
   "id": "609e604c-df9a-4921-a8dc-797a3277b935",
   "metadata": {},
   "source": [
    "**(예시6) 피처뻥튀기**"
   ]
  },
  {
   "cell_type": "code",
   "execution_count": 61,
   "id": "dce65523-4eeb-4e6e-b95b-c7d643ed8552",
   "metadata": {
    "tags": []
   },
   "outputs": [
    {
     "data": {
      "text/plain": [
       "tensor([[[[1., 1.],\n",
       "          [1., 1.]]]])"
      ]
     },
     "execution_count": 61,
     "metadata": {},
     "output_type": "execute_result"
    }
   ],
   "source": [
    "_X = torch.tensor([1.0,1.0,1.0,1.0]).reshape(1,1,2,2)\n",
    "_X"
   ]
  },
  {
   "cell_type": "code",
   "execution_count": 62,
   "id": "31bdb262-701f-43ab-b41a-3490cbfd7355",
   "metadata": {
    "tags": []
   },
   "outputs": [
    {
     "data": {
      "text/plain": [
       "(torch.Size([8, 1, 2, 2]), torch.Size([8]))"
      ]
     },
     "execution_count": 62,
     "metadata": {},
     "output_type": "execute_result"
    }
   ],
   "source": [
    "conv = torch.nn.Conv2d(1,8,(2,2))\n",
    "conv.weight.data.shape,conv.bias.data.shape"
   ]
  },
  {
   "cell_type": "code",
   "execution_count": 63,
   "id": "828e058b-37c4-4bc9-8b8c-8fc2b7db6d9a",
   "metadata": {
    "tags": []
   },
   "outputs": [
    {
     "data": {
      "text/plain": [
       "tensor([-0.3464,  0.2739,  0.1069,  0.6105,  0.0432,  0.8390,  0.2353,  0.2345],\n",
       "       grad_fn=<ViewBackward0>)"
      ]
     },
     "execution_count": 63,
     "metadata": {},
     "output_type": "execute_result"
    }
   ],
   "source": [
    "conv(_X).reshape(-1)"
   ]
  },
  {
   "cell_type": "code",
   "execution_count": 64,
   "id": "12fbf7a3-8920-4689-9302-03d26d104b71",
   "metadata": {
    "tags": []
   },
   "outputs": [
    {
     "data": {
      "text/plain": [
       "(tensor(-0.3464), tensor(0.2739))"
      ]
     },
     "execution_count": 64,
     "metadata": {},
     "output_type": "execute_result"
    }
   ],
   "source": [
    "torch.sum(conv.weight.data[0,...])+conv.bias.data[0],\\\n",
    "torch.sum(conv.weight.data[1,...])+conv.bias.data[1]"
   ]
  },
  {
   "cell_type": "markdown",
   "id": "30e8b2d4-641a-4315-a00d-c48fb59aab1c",
   "metadata": {},
   "source": [
    "결국 아래를 계산한다는 의미"
   ]
  },
  {
   "cell_type": "code",
   "execution_count": 73,
   "id": "3eb0d8d9-bc97-4c96-b834-de8084bb70de",
   "metadata": {
    "tags": []
   },
   "outputs": [
    {
     "data": {
      "text/plain": [
       "tensor([-0.3464,  0.2739,  0.1069,  0.6105,  0.0432,  0.8390,  0.2353,  0.2345])"
      ]
     },
     "execution_count": 73,
     "metadata": {},
     "output_type": "execute_result"
    }
   ],
   "source": [
    "torch.sum(conv.weight.data,axis=(2,3)).reshape(-1) + conv.bias.data"
   ]
  },
  {
   "cell_type": "code",
   "execution_count": 74,
   "id": "fdcac56e-2690-41b3-b32f-9faa9b1e9ed1",
   "metadata": {
    "tags": []
   },
   "outputs": [
    {
     "data": {
      "text/plain": [
       "tensor([-0.3464,  0.2739,  0.1069,  0.6105,  0.0432,  0.8390,  0.2353,  0.2345],\n",
       "       grad_fn=<ViewBackward0>)"
      ]
     },
     "execution_count": 74,
     "metadata": {},
     "output_type": "execute_result"
    }
   ],
   "source": [
    "conv(_X).reshape(-1)"
   ]
  },
  {
   "cell_type": "markdown",
   "id": "10acff38-7e29-48ce-ab07-88472b45019f",
   "metadata": {},
   "source": [
    "## D. ReLU (2d)"
   ]
  },
  {
   "cell_type": "code",
   "execution_count": 92,
   "id": "550c2bff-76af-410f-ba7b-2d3d1ef5c839",
   "metadata": {
    "tags": []
   },
   "outputs": [
    {
     "data": {
      "text/plain": [
       "tensor([[[[-0.1057, -1.3722,  0.4665, -0.7705, -0.6630],\n",
       "          [-0.4631,  0.4362,  0.4981, -0.9319, -0.3996],\n",
       "          [-1.3803,  1.0685,  0.4247, -0.3227,  0.4711],\n",
       "          [ 0.7154,  0.4969,  1.1464, -0.0625, -0.0356],\n",
       "          [ 0.6259,  0.5899,  0.0306,  1.5095, -0.2842]]]])"
      ]
     },
     "execution_count": 92,
     "metadata": {},
     "output_type": "execute_result"
    }
   ],
   "source": [
    "_X = torch.randn(25).reshape(1,1,5,5)\n",
    "_X"
   ]
  },
  {
   "cell_type": "code",
   "execution_count": 93,
   "id": "095f2f5b-a50d-446b-b64e-30662f0266bc",
   "metadata": {
    "tags": []
   },
   "outputs": [],
   "source": [
    "a1=torch.nn.ReLU()"
   ]
  },
  {
   "cell_type": "code",
   "execution_count": 94,
   "id": "5c2eff9f-d611-4e6b-84b0-84943830baf2",
   "metadata": {
    "tags": []
   },
   "outputs": [
    {
     "data": {
      "text/plain": [
       "tensor([[[[0.0000, 0.0000, 0.4665, 0.0000, 0.0000],\n",
       "          [0.0000, 0.4362, 0.4981, 0.0000, 0.0000],\n",
       "          [0.0000, 1.0685, 0.4247, 0.0000, 0.4711],\n",
       "          [0.7154, 0.4969, 1.1464, 0.0000, 0.0000],\n",
       "          [0.6259, 0.5899, 0.0306, 1.5095, 0.0000]]]])"
      ]
     },
     "execution_count": 94,
     "metadata": {},
     "output_type": "execute_result"
    }
   ],
   "source": [
    "a1(_X)"
   ]
  },
  {
   "cell_type": "markdown",
   "id": "2a7def89-1c8d-4ed5-acbc-723404528180",
   "metadata": {},
   "source": [
    "## E. Maxpooling 레이어"
   ]
  },
  {
   "cell_type": "code",
   "execution_count": 95,
   "id": "845179b1-e4a5-4246-9666-a6d0a4e6980e",
   "metadata": {
    "tags": []
   },
   "outputs": [],
   "source": [
    "_maxpooling = torch.nn.MaxPool2d((2,2))"
   ]
  },
  {
   "cell_type": "code",
   "execution_count": 96,
   "id": "b17b5b1f-70a5-439b-8209-df7ba92d3f99",
   "metadata": {
    "tags": []
   },
   "outputs": [],
   "source": [
    "_X = torch.arange(16).float().reshape(1,1,4,4) "
   ]
  },
  {
   "cell_type": "code",
   "execution_count": 97,
   "id": "9ff053b3-142c-4120-8139-09ba2aa0484b",
   "metadata": {
    "tags": []
   },
   "outputs": [
    {
     "data": {
      "text/plain": [
       "(tensor([[[[ 0.,  1.,  2.,  3.],\n",
       "           [ 4.,  5.,  6.,  7.],\n",
       "           [ 8.,  9., 10., 11.],\n",
       "           [12., 13., 14., 15.]]]]),\n",
       " tensor([[[[ 5.,  7.],\n",
       "           [13., 15.]]]]))"
      ]
     },
     "execution_count": 97,
     "metadata": {},
     "output_type": "execute_result"
    }
   ],
   "source": [
    "_X, _maxpooling(_X) "
   ]
  },
  {
   "cell_type": "code",
   "execution_count": 98,
   "id": "8ee26c2d-6933-441f-ba7b-40d3f67ca600",
   "metadata": {
    "tags": []
   },
   "outputs": [],
   "source": [
    "_X = torch.arange(25).float().reshape(1,1,5,5) "
   ]
  },
  {
   "cell_type": "code",
   "execution_count": 99,
   "id": "072cfbe7-7393-453d-aff3-0873d1628dd9",
   "metadata": {
    "tags": []
   },
   "outputs": [
    {
     "data": {
      "text/plain": [
       "(tensor([[[[ 0.,  1.,  2.,  3.,  4.],\n",
       "           [ 5.,  6.,  7.,  8.,  9.],\n",
       "           [10., 11., 12., 13., 14.],\n",
       "           [15., 16., 17., 18., 19.],\n",
       "           [20., 21., 22., 23., 24.]]]]),\n",
       " tensor([[[[ 6.,  8.],\n",
       "           [16., 18.]]]]))"
      ]
     },
     "execution_count": 99,
     "metadata": {},
     "output_type": "execute_result"
    }
   ],
   "source": [
    "_X, _maxpooling(_X) "
   ]
  },
  {
   "cell_type": "code",
   "execution_count": 100,
   "id": "3a166928-21fa-4fa8-8cad-e4e17c8946b5",
   "metadata": {
    "tags": []
   },
   "outputs": [],
   "source": [
    "_X = torch.arange(36).float().reshape(1,6,6) "
   ]
  },
  {
   "cell_type": "code",
   "execution_count": 102,
   "id": "3c66facb-2c11-48c3-a2b6-1bdbf370ba33",
   "metadata": {
    "tags": []
   },
   "outputs": [
    {
     "data": {
      "text/plain": [
       "(tensor([[[ 0.,  1.,  2.,  3.,  4.,  5.],\n",
       "          [ 6.,  7.,  8.,  9., 10., 11.],\n",
       "          [12., 13., 14., 15., 16., 17.],\n",
       "          [18., 19., 20., 21., 22., 23.],\n",
       "          [24., 25., 26., 27., 28., 29.],\n",
       "          [30., 31., 32., 33., 34., 35.]]]),\n",
       " tensor([[[ 7.,  9., 11.],\n",
       "          [19., 21., 23.],\n",
       "          [31., 33., 35.]]]))"
      ]
     },
     "execution_count": 102,
     "metadata": {},
     "output_type": "execute_result"
    }
   ],
   "source": [
    "_X, _maxpooling(_X)"
   ]
  },
  {
   "cell_type": "markdown",
   "id": "a85b9667-4064-4b2c-90d4-1c871d85a40f",
   "metadata": {},
   "source": [
    "# 5. MNIST(CPU)"
   ]
  },
  {
   "cell_type": "code",
   "execution_count": 106,
   "id": "b1c132d3-829b-4883-8dc1-690a05fa1cf4",
   "metadata": {
    "tags": []
   },
   "outputs": [
    {
     "data": {
      "text/plain": [
       "torch.Size([12665, 1, 28, 28])"
      ]
     },
     "execution_count": 106,
     "metadata": {},
     "output_type": "execute_result"
    }
   ],
   "source": [
    "X.shape"
   ]
  },
  {
   "cell_type": "markdown",
   "id": "f863958e-eba1-4777-9c2a-fac7e43c2385",
   "metadata": {
    "tags": []
   },
   "source": [
    "## A. Conv2d"
   ]
  },
  {
   "cell_type": "code",
   "execution_count": 107,
   "id": "c96ee07b-11c7-400d-9b93-e2adbaee9d25",
   "metadata": {
    "tags": []
   },
   "outputs": [
    {
     "name": "stdout",
     "output_type": "stream",
     "text": [
      "torch.Size([12665, 1, 28, 28])\n",
      "torch.Size([12665, 16, 24, 24])\n"
     ]
    }
   ],
   "source": [
    "c1 = torch.nn.Conv2d(1,16,(5,5))\n",
    "print(X.shape)\n",
    "print(c1(X).shape)"
   ]
  },
  {
   "cell_type": "markdown",
   "id": "311db851-8cfc-4a92-a5d3-eee0e6e1978f",
   "metadata": {},
   "source": [
    "## B. ReLU"
   ]
  },
  {
   "cell_type": "code",
   "execution_count": 108,
   "id": "69feaeed-0882-4b42-8f96-8e086d33a059",
   "metadata": {
    "tags": []
   },
   "outputs": [
    {
     "name": "stdout",
     "output_type": "stream",
     "text": [
      "torch.Size([12665, 1, 28, 28])\n",
      "torch.Size([12665, 16, 24, 24])\n",
      "torch.Size([12665, 16, 24, 24])\n"
     ]
    }
   ],
   "source": [
    "a1 = torch.nn.ReLU()\n",
    "print(X.shape)\n",
    "print(c1(X).shape)\n",
    "print(a1(c1(X)).shape)"
   ]
  },
  {
   "cell_type": "markdown",
   "id": "34d57bd6-0673-4942-aa62-38ca6ce53f3b",
   "metadata": {},
   "source": [
    "## C. MaxPool2D"
   ]
  },
  {
   "cell_type": "code",
   "execution_count": 109,
   "id": "79aeab16-58f4-48bb-9b14-8b1cd1a490f9",
   "metadata": {
    "tags": []
   },
   "outputs": [
    {
     "name": "stdout",
     "output_type": "stream",
     "text": [
      "torch.Size([12665, 1, 28, 28])\n",
      "torch.Size([12665, 16, 24, 24])\n",
      "torch.Size([12665, 16, 24, 24])\n",
      "torch.Size([12665, 16, 12, 12])\n"
     ]
    }
   ],
   "source": [
    "m1 =  torch.nn.MaxPool2d((2,2)) \n",
    "print(X.shape)\n",
    "print(c1(X).shape)\n",
    "print(a1(c1(X)).shape)\n",
    "print(m1(a1(c1(X))).shape)"
   ]
  },
  {
   "cell_type": "markdown",
   "id": "e3688d0a-d72b-4cd5-9f3d-49007aeb6823",
   "metadata": {},
   "source": [
    "## D. 적당히 마무리하고 시그모이드 태우자 "
   ]
  },
  {
   "cell_type": "markdown",
   "id": "e610fb29-a42c-4f20-8b13-fe6b30d4fcbf",
   "metadata": {},
   "source": [
    "`-` 펼치자. "
   ]
  },
  {
   "cell_type": "markdown",
   "id": "f7b3bb14-b02c-4bf5-87e4-1afed178a292",
   "metadata": {},
   "source": [
    "(방법1)"
   ]
  },
  {
   "cell_type": "code",
   "execution_count": 110,
   "id": "d8f6ff0a-3c44-436e-a5de-859bfb26fb0f",
   "metadata": {
    "tags": []
   },
   "outputs": [
    {
     "data": {
      "text/plain": [
       "torch.Size([12665, 2304])"
      ]
     },
     "execution_count": 110,
     "metadata": {},
     "output_type": "execute_result"
    }
   ],
   "source": [
    "m1(a1(c1(X))).reshape(-1,2304).shape"
   ]
  },
  {
   "cell_type": "code",
   "execution_count": 111,
   "id": "e90e25a7-ea6a-4931-a9e1-8b0a036dd498",
   "metadata": {
    "tags": []
   },
   "outputs": [
    {
     "data": {
      "text/plain": [
       "2304"
      ]
     },
     "execution_count": 111,
     "metadata": {},
     "output_type": "execute_result"
    }
   ],
   "source": [
    "16*12*12 "
   ]
  },
  {
   "cell_type": "markdown",
   "id": "be82d4c5-543c-4410-a602-d3f405440949",
   "metadata": {},
   "source": [
    "(방법2)"
   ]
  },
  {
   "cell_type": "code",
   "execution_count": 112,
   "id": "bb37b55e-2978-4cdf-8a6c-a79857532e43",
   "metadata": {
    "tags": []
   },
   "outputs": [],
   "source": [
    "flttn = torch.nn.Flatten()"
   ]
  },
  {
   "cell_type": "code",
   "execution_count": 113,
   "id": "00814dfa-c0db-45d5-adc1-8a310396f3a1",
   "metadata": {
    "tags": []
   },
   "outputs": [
    {
     "name": "stdout",
     "output_type": "stream",
     "text": [
      "torch.Size([12665, 1, 28, 28])\n",
      "torch.Size([12665, 16, 24, 24])\n",
      "torch.Size([12665, 16, 24, 24])\n",
      "torch.Size([12665, 16, 12, 12])\n",
      "torch.Size([12665, 2304])\n"
     ]
    }
   ],
   "source": [
    "print(X.shape)\n",
    "print(c1(X).shape)\n",
    "print(a1(c1(X)).shape)\n",
    "print(m1(a1(c1(X))).shape)\n",
    "print(flttn(m1(a1(c1(X)))).shape)"
   ]
  },
  {
   "cell_type": "markdown",
   "id": "fa10d11c-6930-4bc9-a211-fb434c8e1697",
   "metadata": {},
   "source": [
    "`-` 2304 $\\to$ 1 로 차원축소하는 선형레이어를 설계"
   ]
  },
  {
   "cell_type": "code",
   "execution_count": 114,
   "id": "ec891599-8195-4d5e-8f4c-562d6abb12a1",
   "metadata": {
    "tags": []
   },
   "outputs": [
    {
     "name": "stdout",
     "output_type": "stream",
     "text": [
      "torch.Size([12665, 1, 28, 28])\n",
      "torch.Size([12665, 16, 24, 24])\n",
      "torch.Size([12665, 16, 24, 24])\n",
      "torch.Size([12665, 16, 12, 12])\n",
      "torch.Size([12665, 2304])\n",
      "torch.Size([12665, 1])\n"
     ]
    }
   ],
   "source": [
    "l1 = torch.nn.Linear(in_features=2304,out_features=1) \n",
    "print(X.shape)\n",
    "print(c1(X).shape)\n",
    "print(a1(c1(X)).shape)\n",
    "print(m1(a1(c1(X))).shape)\n",
    "print(flttn(m1(a1(c1(X)))).shape)\n",
    "print(l1(flttn(m1(a1(c1(X))))).shape)"
   ]
  },
  {
   "cell_type": "markdown",
   "id": "45bddf2e-50b1-4bbc-9148-b39f0ad85914",
   "metadata": {},
   "source": [
    "`-` 시그모이드"
   ]
  },
  {
   "cell_type": "code",
   "execution_count": 115,
   "id": "d040d9be-3c8c-4221-bc1e-0e7de6b7c239",
   "metadata": {
    "tags": []
   },
   "outputs": [],
   "source": [
    "a2 = torch.nn.Sigmoid()"
   ]
  },
  {
   "cell_type": "code",
   "execution_count": 116,
   "id": "630d9e5e-9bb5-41cd-80a8-e6bdb1545f73",
   "metadata": {
    "tags": []
   },
   "outputs": [
    {
     "name": "stdout",
     "output_type": "stream",
     "text": [
      "torch.Size([12665, 1, 28, 28])\n",
      "torch.Size([12665, 16, 24, 24])\n",
      "torch.Size([12665, 16, 24, 24])\n",
      "torch.Size([12665, 16, 12, 12])\n",
      "torch.Size([12665, 2304])\n",
      "torch.Size([12665, 1])\n",
      "torch.Size([12665, 1])\n"
     ]
    }
   ],
   "source": [
    "l1 = torch.nn.Linear(in_features=2304,out_features=1) \n",
    "print(X.shape)\n",
    "print(c1(X).shape)\n",
    "print(a1(c1(X)).shape)\n",
    "print(m1(a1(c1(X))).shape)\n",
    "print(flttn(m1(a1(c1(X)))).shape)\n",
    "print(l1(flttn(m1(a1(c1(X))))).shape)\n",
    "print(a1(l1(flttn(m1(a1(c1(X)))))).shape)"
   ]
  },
  {
   "cell_type": "markdown",
   "id": "f3e89f57-51c1-4ff5-a72e-adbd0a8a3c64",
   "metadata": {
    "tags": []
   },
   "source": [
    "## E. 학습"
   ]
  },
  {
   "cell_type": "markdown",
   "id": "3035198f-90eb-4aa7-a6e9-9435e3dfd07b",
   "metadata": {},
   "source": [
    "`-` 네트워크 설계"
   ]
  },
  {
   "cell_type": "code",
   "execution_count": 207,
   "id": "8f362c75-6e59-4f3c-8019-fe339faf81d8",
   "metadata": {
    "tags": []
   },
   "outputs": [],
   "source": [
    "net = torch.nn.Sequential(\n",
    "    c1, # 2d: 컨볼루션(선형변환), 피처 뻥튀기 \n",
    "    a1, # 2d: 렐루(비선형변환)\n",
    "    m1, # 2d: 맥스풀링: 데이터요약\n",
    "    flttn, # 2d->1d \n",
    "    l1, # 1d: 선형변환\n",
    "    a2 # 1d: 시그모이드(비선형변환) \n",
    ")\n",
    "loss_fn = torch.nn.BCELoss()\n",
    "optimizr = torch.optim.Adam(net.parameters())\n",
    "for epoc in range(50): \n",
    "    ## 1\n",
    "    yhat = net(X) \n",
    "    ## 2\n",
    "    loss = loss_fn(yhat,y) \n",
    "    ## 3\n",
    "    loss.backward()\n",
    "    ## 4\n",
    "    optimizr.step()\n",
    "    optimizr.zero_grad()"
   ]
  },
  {
   "cell_type": "code",
   "execution_count": 208,
   "id": "e2bf1cdd-a66b-4d8e-9928-039e436099ba",
   "metadata": {
    "tags": []
   },
   "outputs": [
    {
     "data": {
      "text/plain": [
       "Text(0.5, 1.0, 'Traning Set')"
      ]
     },
     "execution_count": 208,
     "metadata": {},
     "output_type": "execute_result"
    },
    {
     "data": {
      "image/png": "[encoded data removed]",
      "text/plain": [
       "<Figure size 640x480 with 1 Axes>"
      ]
     },
     "metadata": {},
     "output_type": "display_data"
    }
   ],
   "source": [
    "plt.plot(y)\n",
    "plt.plot(net(X).data,'.')\n",
    "plt.title('Traning Set',size=15)"
   ]
  },
  {
   "cell_type": "code",
   "execution_count": 209,
   "id": "2aa2efbb-9fb9-416b-8952-6685b41c9030",
   "metadata": {
    "tags": []
   },
   "outputs": [
    {
     "data": {
      "text/plain": [
       "Text(0.5, 1.0, 'Test Set')"
      ]
     },
     "execution_count": 209,
     "metadata": {},
     "output_type": "execute_result"
    },
    {
     "data": {
      "image/png": "[encoded data removed]",
      "text/plain": [
       "<Figure size 640x480 with 1 Axes>"
      ]
     },
     "metadata": {},
     "output_type": "display_data"
    }
   ],
   "source": [
    "plt.plot(yy)\n",
    "plt.plot(net(XX).data,'.')\n",
    "plt.title('Test Set',size=15)"
   ]
  },
  {
   "cell_type": "code",
   "execution_count": 144,
   "id": "29a77276-bbdb-4754-a0e2-fe0ced25bcb2",
   "metadata": {
    "tags": []
   },
   "outputs": [
    {
     "data": {
      "text/plain": [
       "[400, 16, 2304, 1]"
      ]
     },
     "execution_count": 144,
     "metadata": {},
     "output_type": "execute_result"
    }
   ],
   "source": [
    "[np.prod(list(para.shape)) for para in net.parameters()]"
   ]
  },
  {
   "cell_type": "markdown",
   "id": "ab491c74-0696-46c0-ab57-4fdc86903cbf",
   "metadata": {},
   "source": [
    "# 6. MNIST (GPU)"
   ]
  },
  {
   "cell_type": "code",
   "execution_count": 225,
   "id": "117604c0-6060-4e77-a4b1-5f8ff72eab10",
   "metadata": {
    "tags": []
   },
   "outputs": [],
   "source": [
    "ds = torch.utils.data.TensorDataset(X,y)\n",
    "dl = torch.utils.data.DataLoader(ds,batch_size=128)\n",
    "#--#\n",
    "net = torch.nn.Sequential(\n",
    "    torch.nn.Conv2d(1,16,(5,5)),\n",
    "    torch.nn.ReLU(),\n",
    "    torch.nn.MaxPool2d((2,2)),\n",
    "    torch.nn.Flatten(),\n",
    "    torch.nn.Linear(2304,1),\n",
    "    torch.nn.Sigmoid()\n",
    ")\n",
    "loss_fn = torch.nn.BCELoss()\n",
    "optimizr = torch.optim.Adam(net.parameters())\n",
    "#--#\n",
    "net.to(\"cuda:0\")\n",
    "for epoc in range(5): \n",
    "    for xi,yi in dl: \n",
    "        ## 1\n",
    "        netout = net(xi.to(\"cuda:0\")) \n",
    "        ## 2\n",
    "        loss = loss_fn(netout,yi.to(\"cuda:0\")) \n",
    "        ## 3\n",
    "        loss.backward()\n",
    "        ## 4\n",
    "        optimizr.step()\n",
    "        optimizr.zero_grad()"
   ]
  },
  {
   "cell_type": "code",
   "execution_count": 226,
   "id": "a47a0262-fa48-4cde-9d02-b75c71fc9ac3",
   "metadata": {
    "tags": []
   },
   "outputs": [
    {
     "data": {
      "text/plain": [
       "Text(0.5, 1.0, 'Training Set')"
      ]
     },
     "execution_count": 226,
     "metadata": {},
     "output_type": "execute_result"
    },
    {
     "data": {
      "image/png": "[encoded data removed]",
      "text/plain": [
       "<Figure size 640x480 with 1 Axes>"
      ]
     },
     "metadata": {},
     "output_type": "display_data"
    }
   ],
   "source": [
    "net.to(\"cpu\")\n",
    "plt.plot(y)\n",
    "plt.plot(net(X).data,'.')\n",
    "plt.title(\"Training Set\")"
   ]
  },
  {
   "cell_type": "code",
   "execution_count": 227,
   "id": "6a3438c8-25f9-41a5-a47d-f6373316433c",
   "metadata": {
    "tags": []
   },
   "outputs": [
    {
     "data": {
      "text/plain": [
       "[<matplotlib.lines.Line2D at 0x7faf8ec54590>]"
      ]
     },
     "execution_count": 227,
     "metadata": {},
     "output_type": "execute_result"
    },
    {
     "data": {
      "image/png": "[encoded data removed]",
      "text/plain": [
       "<Figure size 640x480 with 1 Axes>"
      ]
     },
     "metadata": {},
     "output_type": "display_data"
    }
   ],
   "source": [
    "#net.to(\"cpu\")\n",
    "plt.plot(yy)\n",
    "plt.plot(net(XX).data,'.')"
   ]
  },
  {
   "cell_type": "markdown",
   "id": "595000a7-a04b-4e9b-828f-b50bf11ab8b9",
   "metadata": {
    "tags": []
   },
   "source": [
    "# A1. 자잘한 용어 정리 ($\\star$)"
   ]
  },
  {
   "cell_type": "markdown",
   "id": "c9c7134b-ffe6-45be-b524-b2d118c2d0ef",
   "metadata": {
    "tags": []
   },
   "source": [
    "## A. 지도학습 \n",
    "\n",
    "`-` 우리가 수업에서 다루는 데이터는 주로 아래와 같은 느낌이다. \n",
    "\n",
    "1.  데이터는 $(X,y)$의 형태로 정리되어 있다. \n",
    "\n",
    "2.  $y$는 우리가 관심이 있는 변수이다. 즉 우리는 $y$를 적절하게 추정하는 것에 관심이 있다.\n",
    "\n",
    "3.  $X$는 $y$를 추정하기 위해 필요한 정보이다.\n",
    "\n",
    "|  $X$ = 설명변수 = 독립변수   | $y$ = 반응변수 = 종속변수  |     비고     |     순서     |           예시           |\n",
    "|:-------------:|:-------------:|:-------------:|:-------------:|:-------------:|\n",
    "|            이미지            |          카테고리          | 합성곱신경망 |   상관없음   |  개/고양이 이미지 구분   |\n",
    "|         유저,아이템          |            평점            |  추천시스템  |   상관없음   |    넷플릭스 영화추천     |\n",
    "|     과거~오늘까지의주가      |          내일주가          |  순환신경망  | 순서상관있음 |         주가예측         |\n",
    "| 처음 $m$개의 단어(혹은 문장) | 이후 1개의 단어(혹은 문장) |  순환신경망  | 순서상관있음 |     챗봇, 텍스트생성     |\n",
    "| 처음 $m$개의 단어(혹은 문장) |          카테고리          |  순환신경망  | 순서상관있음 | 영화리뷰 텍스트 감정분류 |\n",
    "\n",
    "`-` 이러한 문제상황, 즉 $(X,y)$가 주어졌을때 $X \\to y$를 추정하는 문제를 supervised learning 이라한다. "
   ]
  },
  {
   "cell_type": "markdown",
   "id": "c3c3d68b-51cd-4d65-8cf4-1de4c77459a9",
   "metadata": {},
   "source": [
    "## B. 모델이란? "
   ]
  },
  {
   "cell_type": "markdown",
   "id": "4ac9fd8c-86d4-47d3-ba47-88193aab478b",
   "metadata": {},
   "source": [
    "> 모델이란 단어는 제 발작버튼이었어요.. "
   ]
  },
  {
   "cell_type": "markdown",
   "id": "dc02f368-74e5-413d-a914-e0eb3e4a344b",
   "metadata": {},
   "source": [
    "`-` 통계학에서 모델은 y와 x의 관계를 의미하며 오차항의 설계를 포함하는 개념이다. 이는 통계학이 \"데이터 = 정보 + 오차\"의 관점을 유지하기 때문이다. 따라서 통계학에서 모델링이란 \n",
    "\n",
    "$$y_i = net(x_i) + \\epsilon_i$$\n",
    "\n",
    "에서 (1) 적절한 함수 $net$를 선택하는 일 (2) 적절한 오차항 $\\epsilon_i$ 을 설계하는일 모두를 포함한다. "
   ]
  },
  {
   "cell_type": "markdown",
   "id": "e0343387-1146-49df-bffd-625ac99c31dc",
   "metadata": {},
   "source": [
    "`-` 딥러닝 혹은 머신러닝에서 모델은 단순히\n",
    "\n",
    "$$y_i \\approx net(x_i)$$\n",
    "\n",
    "를 의미하는 경우가 많다. 즉 \"model=net\"라고 생각해도 무방하다. 이 경우 \"모델링\"이란 단순히 적절한 $net$을 설계하는 것만을 의미할 경우가 많다. "
   ]
  },
  {
   "cell_type": "markdown",
   "id": "40433381-78d2-4678-ad30-88cc8cb6a36a",
   "metadata": {},
   "source": [
    "`-` 그래서 생긴일\n",
    "\n",
    "- 통계학교재 특: 분류문제와 회귀문제를 엄밀하게 구분하지 않는다. 사실 오차항만 다를뿐이지 크게보면 같은 회귀모형이라는 관점이다. 그래서 일반화선형모형(GLM)이라는 용어를 쓴다. \n",
    "- 머신러닝/딥러닝교재 특: 회귀문제와 분류문제를 구분해서 설명한다. (표도 만듦) 이는 오차항에 대한 기술을 모호하게 하여 생기는 현상이다."
   ]
  },
  {
   "cell_type": "markdown",
   "id": "3b4889fb-9129-4b09-a1cb-3750d446be23",
   "metadata": {
    "tags": []
   },
   "source": [
    "## C. 학습이란? \n",
    "\n",
    "`-` 학습이란 주어진 자료 $(X,y)$를 잘 분석하여 $X$에서 $y$로 가는 어떠한 “규칙” 혹은 “원리”를 찾는 것이다.\n",
    "\n",
    "-   학습이란 주어진 자료 $(X,y)$를 잘 분석하여 $X$에서 $y$로 가는 어떠한 “맵핑”을 찾는 것이다.\n",
    "-   학습이란 주어진 자료 $(X,y)$를 잘 분석하여 $X$에서 $y$로 가는 어떠한 \"함수”을 찾는 것이다. 즉 $y\\approx f(X)$가 되도록 만드는 $f$를 잘 찾는 것이다. (이 경우 \"함수를 추정한다\"라고 표현)\n",
    "-   학습이란 주어진 자료 $(X,y)$를 잘 분석하여 $X$에서 $y$로 가는 어떠한 “모델” 혹은 \"모형\"을 찾는 것이다. 즉 $y\\approx model(X)$가 되도록 만드는 $model$을 잘 찾는 것이다. (이 경우 \"모형을 학습시킨다\"라고 표현)\n",
    "-   **학습이란 주어진 자료 $(X,y)$를 잘 분석하여 $X$에서 $y$로 가는 어떠한 “네트워크”을 찾는 것이다. 즉 $y\\approx net(X)$가 되도록 만드는 $net$을 잘 찾는 것이다. (이 경우 \"네트워크를 학습시킨다\"라고 표현)**\n",
    "\n",
    "`-` prediction이란 학습과정에서 찾은 “규칙” 혹은 “원리”를 $X$에 적용하여 $\\hat{y}$을 구하는 과정이다. 학습과정에서 찾은 규칙 혹은 원리는 $f$,$model$,$net$ 으로 생각가능한데 이에 따르면 아래가 성립한다.\n",
    "\n",
    "-   $\\hat{y} = f(X)$\n",
    "-   $\\hat{y} = model(X)$\n",
    "-   $\\hat{y} = net(X)$"
   ]
  },
  {
   "cell_type": "markdown",
   "id": "82899ffa-b574-4078-a8d0-2eddffdb51ee",
   "metadata": {
    "tags": []
   },
   "source": [
    "## D. $\\hat{y}$를 부르는 다양한 이름\n",
    "\n",
    "`-` $\\hat{y}$는 $X$가 주어진 자료에 있는 값인지 아니면 새로운 값 인지에 따라 지칭하는 이름이 미묘하게 다르다.\n",
    "\n",
    "1.  $X \\in data$: $\\hat{y}=net(X)$ 는 predicted value, fitted value 라고\n",
    "    부른다.\n",
    "\n",
    "2.  $X \\notin data$: $\\hat{y}=net(X)$ 는 predicted value, predicted\n",
    "    value with new data 라고 부른다.\n",
    "\n",
    "`-` 경우1은 “$loss$ = $y$ 와 $\\hat{y}$ 의 차이” 를 정의할 수 있으나 경우2는 그렇지 않다."
   ]
  },
  {
   "cell_type": "markdown",
   "id": "5b26488f-f604-49fd-b754-81157bdeb3ef",
   "metadata": {
    "tags": []
   },
   "source": [
    "## E. 다양한 코드들 "
   ]
  },
  {
   "cell_type": "markdown",
   "id": "c627af54-718a-4736-9fd4-ff668386ae0b",
   "metadata": {
    "tags": []
   },
   "source": [
    "\n",
    "`-` 파이썬 코드..\n",
    "\n",
    "```Python\n",
    "#Python\n",
    "predictor.fit(X,y) # autogluon 에서 \"학습\"을 의미하는 과정\n",
    "model.fit(X,y) # sklearn 에서 \"학습\"을 의미하는 과정\n",
    "learner.learn() # fastai 에서 \"학습\"을 의미하는 과정\n",
    "learner.fine_tune(1) # fastai 에서 \"부분학습\"을 의미하는 과정\n",
    "learner.predict(cat1) # fastai 에서 \"예측\"을 의미하는 과정 \n",
    "model.fit(x, y, batch_size=32, epochs=10) # keras에서 \"학습\"을 의미하는 과정\n",
    "model.predict(test_img) # keras에서 \"예측\"을 의미하는 과정 \n",
    "```\n",
    "\n",
    "`-` R 코드..\n",
    "\n",
    "```r\n",
    "# R\n",
    "ols <- lm(y~x) # 선형회귀분석에서 학습을 의미하는 함수\n",
    "ols$fitted.values # 선형회귀분석에서 yhat을 출력 \n",
    "predict(ols, newdata=test) # 선형회귀분석에서 test에 대한 예측값을 출력하는 함수\n",
    "ols$coef # 선형회귀분석에서 weight를 확인하는 방법\n",
    "```\n"
   ]
  },
  {
   "cell_type": "markdown",
   "id": "84853dd5-4532-4b43-b361-79a92d4bbcbb",
   "metadata": {
    "tags": []
   },
   "source": [
    "# A2. 참고자료들 "
   ]
  },
  {
   "cell_type": "markdown",
   "id": "7d7dd23a-2e4a-4c52-901e-f96b65f173f7",
   "metadata": {},
   "source": [
    "`-` 케라스/텐서플로우: <https://guebin.github.io/STBDA2022/>"
   ]
  },
  {
   "cell_type": "markdown",
   "id": "d373d8b2-009f-4210-98b1-e174bbe2114b",
   "metadata": {},
   "source": [
    "`-` 상속: <https://guebin.github.io/PP2023/posts/03_Class/2023-06-12-15wk-1.html>"
   ]
  },
  {
   "cell_type": "markdown",
   "id": "f0287ef6-0277-4c3e-883a-f8d404fe1689",
   "metadata": {},
   "source": [
    "`-` sklearn/autogluon: <https://guebin.github.io/MP2023/>"
   ]
  },
  {
   "cell_type": "markdown",
   "id": "48085a06-1497-44b1-9fca-7bb91f4c8846",
   "metadata": {
    "tags": []
   },
   "source": [
    "`-` 리눅스관련: <https://guebin.github.io/DSTBX2024/> -- 자료 부실함.. 강의영상 없는것 많음.. "
   ]
  }
 ],
 "metadata": {
  "kernelspec": {
   "display_name": "Python 3 (ipykernel)",
   "language": "python",
   "name": "python3"
  },
  "language_info": {
   "codemirror_mode": {
    "name": "ipython",
    "version": 3
   },
   "file_extension": ".py",
   "mimetype": "text/x-python",
   "name": "python",
   "nbconvert_exporter": "python",
   "pygments_lexer": "ipython3",
   "version": "3.11.8"
  }
 },
 "nbformat": 4,
 "nbformat_minor": 5
}
